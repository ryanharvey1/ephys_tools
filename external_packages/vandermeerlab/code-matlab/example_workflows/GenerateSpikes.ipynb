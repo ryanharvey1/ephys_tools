{
 "cells": [
  {
   "cell_type": "markdown",
   "metadata": {},
   "source": [
    "## Example workflow for simulating spike trains"
   ]
  },
  {
   "cell_type": "markdown",
   "metadata": {},
   "source": [
    "Remember, this is a visual reference guide to the example workflow MATLAB code and is not intended to be run as is. Some of the code you will see here is particular to jupyter notebook or for the purpose of better visualization.  For example, you'll see `%plot -s` in front of a figure call from time to time. This is a magic function used to set the size of the figure in jupyter notebook, *not in matlab*! For a complete tutorial, please follow along and step through the example code in `GenerateSpikes.m`"
   ]
  },
  {
   "cell_type": "markdown",
   "metadata": {},
   "source": [
    "genInhomogenousPoisson uses a deletion method for generating poisson spikes so it's quite fast but the way it's written was specified for the replay generative model and sort of hacky since we were going back and forth between position based and time based algorithms. (see pfmodel2 line 222) Anyways, here I'll show a simple example of how to use it (and if need be alter it) so that it can be used in other situations."
   ]
  },
  {
   "cell_type": "markdown",
   "metadata": {},
   "source": [
    "First, add the codebase functions to your path"
   ]
  },
  {
   "cell_type": "code",
   "execution_count": 8,
   "metadata": {
    "ExecuteTime": {
     "end_time": "2017-03-02T17:55:52.956357",
     "start_time": "2017-03-02T17:55:52.914854"
    },
    "collapsed": true
   },
   "outputs": [],
   "source": [
    "warning('off','all') %only since its annoying otherwise\n",
    "cd('/Users/youkitanaka/Documents/Github/vandermeerlab/code-matlab/shared'); %your own path for codebase\n",
    "p = genpath(pwd);\n",
    "addpath(p);"
   ]
  },
  {
   "cell_type": "markdown",
   "metadata": {},
   "source": [
    "Let's specify an arbitrary rate function – for example, a sine wave – and plot it. "
   ]
  },
  {
   "cell_type": "code",
   "execution_count": 9,
   "metadata": {
    "ExecuteTime": {
     "end_time": "2017-03-02T17:55:53.583523",
     "start_time": "2017-03-02T17:55:52.958284"
    },
    "collapsed": false,
    "scrolled": false
   },
   "outputs": [
    {
     "data": {
      "image/png": "[encoded data removed]",
      "text/plain": [
       "<IPython.core.display.Image object>"
      ]
     },
     "metadata": {},
     "output_type": "display_data"
    }
   ],
   "source": [
    "%plot -s 500,200\n",
    "tvec = 0:.01:2; %some time vector\n",
    "ratefunc = @(t) 5*sin(10*t)+5; %arbitrary sine wave\n",
    "\n",
    "time_rate = ratefunc(tvec);\n",
    "plot(tvec,time_rate)"
   ]
  },
  {
   "cell_type": "markdown",
   "metadata": {},
   "source": [
    "Next, we need to specify the inputs into the function that generates spikes. These are the maximum firing rate, total elapsed time and the rate function we specified above. Now we can generate and plot spikes! "
   ]
  },
  {
   "cell_type": "code",
   "execution_count": 10,
   "metadata": {
    "ExecuteTime": {
     "end_time": "2017-03-02T17:55:53.963527",
     "start_time": "2017-03-02T17:55:53.585294"
    },
    "collapsed": false
   },
   "outputs": [
    {
     "data": {
      "image/png": "[encoded data removed]",
      "text/plain": [
       "<IPython.core.display.Image object>"
      ]
     },
     "metadata": {},
     "output_type": "display_data"
    }
   ],
   "source": [
    "max_rate = max(time_rate); %get it from the rate function;\n",
    "total_time = tvec(end)-tvec(1); %just get it from your tvec\n",
    "\n",
    "% generate spikes\n",
    "spiketimes = genInhomogeneousPoisson([],max_rate,total_time,ratefunc);\n",
    "S = ts(spiketimes); %convert to ts struct for easy plotting\n",
    "\n",
    "PlotSpikeRaster2([],S); \n",
    "axis([tvec(1),tvec(end),0,2]) %align axis with rate function"
   ]
  },
  {
   "cell_type": "markdown",
   "metadata": {},
   "source": [
    "We can see that the spikes fall under the peaks of the firing rate plot above."
   ]
  },
  {
   "cell_type": "markdown",
   "metadata": {},
   "source": [
    " ### Next steps\n"
   ]
  },
  {
   "cell_type": "markdown",
   "metadata": {},
   "source": [
    "Now that we understand how to generate and plot spikes, let's try an example that follows the method SpikeGenerator.m uses to generate spike trains based on tuning curve and position input. As before, we first define a rate function."
   ]
  },
  {
   "cell_type": "code",
   "execution_count": 11,
   "metadata": {
    "ExecuteTime": {
     "end_time": "2017-03-02T17:55:53.973275",
     "start_time": "2017-03-02T17:55:53.965740"
    },
    "collapsed": true
   },
   "outputs": [],
   "source": [
    "% total_time needs to be a duration but it can be extracted from an interval...\n",
    "t1 = 0.5;\n",
    "t2 = 2.5;\n",
    "total_time = t2-t1;\n",
    "\n",
    "% define a gaussian function\n",
    "ratefunc1 = @(x, a, b, c) a.*exp(-(x-b).^2/(2*(c.^2)));"
   ]
  },
  {
   "cell_type": "markdown",
   "metadata": {},
   "source": [
    "ratefunc is gaussian function that returns a firing rate distribution where,   \n",
    "x = 1-by-N position vector,   \n",
    "a = gain of the firing rate (height of the curve),   \n",
    "b = center of the peak,   \n",
    "c = standard deviation (width of curve).   \n",
    "\n",
    "Now let's simulate a 1-dimensional tuning curve by giving the rate function some position inputs. "
   ]
  },
  {
   "cell_type": "code",
   "execution_count": 12,
   "metadata": {
    "ExecuteTime": {
     "end_time": "2017-03-02T17:55:54.795731",
     "start_time": "2017-03-02T17:55:53.975185"
    },
    "collapsed": false
   },
   "outputs": [
    {
     "data": {
      "image/png": "[encoded data removed]",
      "text/plain": [
       "<IPython.core.display.Image object>"
      ]
     },
     "metadata": {},
     "output_type": "display_data"
    }
   ],
   "source": [
    "tvec = t1:.01:t2; % \n",
    "pvec = 5*tvec; % position moves at a constant speed of 5\n",
    "center = 8; %center position of gaussian\n",
    "std = 1; %width of gaussian\n",
    "max_rate = 10; %peak of gaussian\n",
    "pos_rate = ratefunc1(pvec,max_rate,center,std); %synthetic tuning curve\n",
    "\n",
    "[ax,~,~] = plotyy(tvec,pvec,tvec,pos_rate);\n",
    "axes(ax(1)); ylabel('Position');\n",
    "axes(ax(2)); ylabel('Firing Rate');"
   ]
  },
  {
   "cell_type": "markdown",
   "metadata": {},
   "source": [
    "In blue is the position as a function of time and red is the firing rate. We can see that there is a gaussian relationship between position and firing rate with the peak of the gaussian occuring when position = 8.\n",
    "\n",
    "Let's now use this \"tuning curve\" and our position input to generate the correct input for `genInhomogenousPoisson`. That is, we need our rate function to be a function over time."
   ]
  },
  {
   "cell_type": "code",
   "execution_count": 13,
   "metadata": {
    "ExecuteTime": {
     "end_time": "2017-03-02T17:55:55.256630",
     "start_time": "2017-03-02T17:55:54.797554"
    },
    "collapsed": false
   },
   "outputs": [
    {
     "data": {
      "image/png": "[encoded data removed]",
      "text/plain": [
       "<IPython.core.display.Image object>"
      ]
     },
     "metadata": {},
     "output_type": "display_data"
    }
   ],
   "source": [
    "% We can our defined rate function for position using the gaussian function we defined...\n",
    "ratefunc2 = @(t) ratefunc1(interp1(tvec,pvec,t),max_rate,center,std);\n",
    "\n",
    "% or if you have a given position vector (e.g., position tsd) and a tuning curve, you can\n",
    "% interpolate the rate at a given time\n",
    "ratefunc3 = @(t) interp1(pvec,pos_rate,interp1(tvec,pvec,t));\n",
    "\n",
    "% plot both methods for comparison\n",
    "time_rate2 = ratefunc2(tvec); time_rate3 = ratefunc3(tvec);\n",
    "subplot(211); plot(tvec,time_rate2);\n",
    "subplot(212); plot(tvec,time_rate3);"
   ]
  },
  {
   "cell_type": "markdown",
   "metadata": {},
   "source": [
    "Notice that there are multiple ways of defining the rate function! The method that `ratefunc3` uses is the one used in `SpikeGenerator.m` . This method uses empirical place field distributions and converts them into a time-based rate function. Now we can generate spikes like before."
   ]
  },
  {
   "cell_type": "code",
   "execution_count": 14,
   "metadata": {
    "ExecuteTime": {
     "end_time": "2017-03-02T17:55:55.653383",
     "start_time": "2017-03-02T17:55:55.258468"
    },
    "collapsed": false
   },
   "outputs": [
    {
     "data": {
      "image/png": "[encoded data removed]",
      "text/plain": [
       "<IPython.core.display.Image object>"
      ]
     },
     "metadata": {},
     "output_type": "display_data"
    }
   ],
   "source": [
    "spiketimes = genInhomogeneousPoisson([],max_rate,total_time,ratefunc3);\n",
    "S = ts(spiketimes); %convert to ts struct for easy plotting\n",
    "\n",
    "PlotSpikeRaster2([],S); \n",
    "axis([0.5,2.5,0,2]) %align axis with rate function"
   ]
  },
  {
   "cell_type": "markdown",
   "metadata": {},
   "source": [
    "### Congratulations! Now you know how to generate synthetic spiketrains!"
   ]
  }
 ],
 "metadata": {
  "kernelspec": {
   "display_name": "Matlab",
   "language": "matlab",
   "name": "matlab"
  },
  "language_info": {
   "codemirror_mode": "octave",
   "file_extension": ".m",
   "help_links": [
    {
     "text": "MetaKernel Magics",
     "url": "https://github.com/calysto/metakernel/blob/master/metakernel/magics/README.md"
    }
   ],
   "mimetype": "text/x-matlab",
   "name": "matlab",
   "version": "0.13.0"
  },
  "toc": {
   "colors": {
    "hover_highlight": "#DAA520",
    "running_highlight": "#FF0000",
    "selected_highlight": "#FFD700"
   },
   "moveMenuLeft": true,
   "nav_menu": {
    "height": "66px",
    "width": "252px"
   },
   "navigate_menu": true,
   "number_sections": false,
   "sideBar": true,
   "threshold": 4,
   "toc_cell": false,
   "toc_section_display": "block",
   "toc_window_display": true
  }
 },
 "nbformat": 4,
 "nbformat_minor": 2
}
