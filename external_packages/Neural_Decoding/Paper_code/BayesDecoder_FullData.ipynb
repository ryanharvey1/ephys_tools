{
 "cells": [
  {
   "cell_type": "markdown",
   "metadata": {},
   "source": [
    "# Naive Bayes run on full dataset"
   ]
  },
  {
   "cell_type": "markdown",
   "metadata": {},
   "source": [
    "## User Options"
   ]
  },
  {
   "cell_type": "markdown",
   "metadata": {},
   "source": [
    "Define what folder you're saving to"
   ]
  },
  {
   "cell_type": "code",
   "execution_count": 1,
   "metadata": {
    "collapsed": true
   },
   "outputs": [],
   "source": [
    "# save_folder=''\n",
    "save_folder='/home/jglaser/Files/Neural_Decoding/Results/'"
   ]
  },
  {
   "cell_type": "markdown",
   "metadata": {},
   "source": [
    "Define what folder you're loading the files from"
   ]
  },
  {
   "cell_type": "code",
   "execution_count": 2,
   "metadata": {
    "collapsed": true
   },
   "outputs": [],
   "source": [
    "# load_folder=''\n",
    "# load_folder='/Users/jig289/Dropbox/Public/Decoding_Data/'\n",
    "load_folder='/home/jglaser/Data/DecData/'"
   ]
  },
  {
   "cell_type": "markdown",
   "metadata": {},
   "source": [
    "Define what dataset you are using"
   ]
  },
  {
   "cell_type": "code",
   "execution_count": 3,
   "metadata": {
    "collapsed": true
   },
   "outputs": [],
   "source": [
    "# dataset='s1'\n",
    "# dataset='m1'\n",
    "dataset='hc'"
   ]
  },
  {
   "cell_type": "markdown",
   "metadata": {},
   "source": [
    "## 1. Import Packages\n",
    "\n",
    "We import standard packages and functions from the accompanying .py files"
   ]
  },
  {
   "cell_type": "code",
   "execution_count": 4,
   "metadata": {
    "collapsed": false
   },
   "outputs": [
    {
     "name": "stderr",
     "output_type": "stream",
     "text": [
      "/opt/anaconda/anaconda2/lib/python2.7/site-packages/statsmodels/compat/pandas.py:56: FutureWarning: The pandas.core.datetools module is deprecated and will be removed in a future version. Please use the pandas.tseries module instead.\n",
      "  from pandas.core import datetools\n",
      "Using Theano backend.\n",
      "WARNING (theano.sandbox.cuda): The cuda backend is deprecated and will be removed in the next release (v0.10).  Please switch to the gpuarray backend. You can get more information about how to switch at this URL:\n",
      " https://github.com/Theano/Theano/wiki/Converting-to-the-new-gpu-back-end%28gpuarray%29\n",
      "\n",
      "Using gpu device 0: GeForce GTX TITAN X (CNMeM is enabled with initial size: 45.0% of memory, cuDNN Mixed dnn version. The header is from one version, but we link with a different version (5103, 5110))\n",
      "/opt/anaconda/anaconda2/lib/python2.7/site-packages/h5py/__init__.py:36: FutureWarning: Conversion of the second argument of issubdtype from `float` to `np.floating` is deprecated. In future, it will be treated as `np.float64 == np.dtype(float).type`.\n",
      "  from ._conv import register_converters as _register_converters\n"
     ]
    }
   ],
   "source": [
    "#Import standard packages\n",
    "import numpy as np\n",
    "import matplotlib.pyplot as plt\n",
    "%matplotlib inline\n",
    "from scipy import io\n",
    "from scipy import stats\n",
    "import pickle\n",
    "import time\n",
    "import sys\n",
    "\n",
    "#Add the main folder to the path, so we have access to the files there.\n",
    "#Note that if your working directory is not the Paper_code folder, you may need to manually specify the path to the main folder. For example: sys.path.append('/home/jglaser/GitProj/Neural_Decoding')\n",
    "sys.path.append('..') \n",
    "\n",
    "#Import function to get the covariate matrix that includes spike history from previous bins\n",
    "from preprocessing_funcs import get_spikes_with_history\n",
    "\n",
    "#Import metrics\n",
    "from metrics import get_R2\n",
    "from metrics import get_rho\n",
    "\n",
    "#Import decoder functions\n",
    "from decoders import NaiveBayesDecoder\n",
    "\n",
    "#Import Bayesian Optimization package\n",
    "from bayes_opt import BayesianOptimization"
   ]
  },
  {
   "cell_type": "code",
   "execution_count": 5,
   "metadata": {
    "collapsed": true
   },
   "outputs": [],
   "source": [
    "#Turn off deprecation warnings\n",
    "\n",
    "import warnings\n",
    "warnings.filterwarnings(\"ignore\", category=DeprecationWarning) "
   ]
  },
  {
   "cell_type": "markdown",
   "metadata": {},
   "source": [
    "## 2. Load Data\n",
    "\n",
    "The data that we load is in the format described below. We have another example script, \"Example_format_data\" that may be helpful towards putting the data in this format.\n",
    "\n",
    "Neural data should be a matrix of size \"number of time bins\" x \"number of neurons\", where each entry is the firing rate of a given neuron in a given time bin\n",
    "\n",
    "The output you are decoding should be a matrix of size \"number of time bins\" x \"number of features you are decoding\""
   ]
  },
  {
   "cell_type": "code",
   "execution_count": 6,
   "metadata": {
    "collapsed": false
   },
   "outputs": [],
   "source": [
    "if dataset=='s1':\n",
    "    with open(load_folder+'example_data_s1.pickle','rb') as f:\n",
    "#         neural_data,vels_binned=pickle.load(f,encoding='latin1')\n",
    "        neural_data,vels_binned=pickle.load(f)\n",
    "        \n",
    "if dataset=='m1':\n",
    "    with open(load_folder+'example_data_m1.pickle','rb') as f:\n",
    "#         neural_data,vels_binned=pickle.load(f,encoding='latin1')\n",
    "        neural_data,vels_binned=pickle.load(f)\n",
    "        \n",
    "if dataset=='hc':\n",
    "    with open(load_folder+'example_data_hc.pickle','rb') as f:\n",
    "#         neural_data,pos_binned=pickle.load(f,encoding='latin1')\n",
    "        neural_data,pos_binned=pickle.load(f)"
   ]
  },
  {
   "cell_type": "markdown",
   "metadata": {},
   "source": [
    "## 3. Preprocess Data"
   ]
  },
  {
   "cell_type": "markdown",
   "metadata": {},
   "source": [
    "### 3A. User Inputs\n",
    "The user can define what time period to use spikes from (with respect to the output)."
   ]
  },
  {
   "cell_type": "code",
   "execution_count": 7,
   "metadata": {
    "collapsed": true
   },
   "outputs": [],
   "source": [
    "if dataset=='s1':\n",
    "    bins_before=1 #How many bins of neural data prior to the output are used for decoding\n",
    "    bins_current=1 #Whether to use concurrent time bin of neural data\n",
    "    bins_after=1 #How many bins of neural data after (and including) the output are used for decoding\n",
    "    \n",
    "if dataset=='m1':\n",
    "    bins_before=2 #How many bins of neural data prior to the output are used for decoding\n",
    "    bins_current=1 #Whether to use concurrent time bin of neural data\n",
    "    bins_after=0 #How many bins of neural data after (and including) the output are used for decoding\n",
    "    \n",
    "if dataset=='hc':\n",
    "    bins_before=4 #How many bins of neural data prior to the output are used for decoding\n",
    "    bins_current=1 #Whether to use concurrent time bin of neural data\n",
    "    bins_after=5 #How many bins of neural data after (and including) the output are used for decoding"
   ]
  },
  {
   "cell_type": "markdown",
   "metadata": {},
   "source": [
    "### 3B. Format Covariates"
   ]
  },
  {
   "cell_type": "markdown",
   "metadata": {},
   "source": [
    "#### Format Input Covariates"
   ]
  },
  {
   "cell_type": "code",
   "execution_count": 8,
   "metadata": {
    "collapsed": true
   },
   "outputs": [],
   "source": [
    "#Remove neurons with too few spikes in HC dataset\n",
    "if dataset=='hc':\n",
    "    nd_sum=np.nansum(neural_data,axis=0)\n",
    "    rmv_nrn=np.where(nd_sum<100)\n",
    "    neural_data=np.delete(neural_data,rmv_nrn,1)"
   ]
  },
  {
   "cell_type": "code",
   "execution_count": 9,
   "metadata": {
    "collapsed": true
   },
   "outputs": [],
   "source": [
    "X=neural_data"
   ]
  },
  {
   "cell_type": "code",
   "execution_count": 10,
   "metadata": {
    "collapsed": true
   },
   "outputs": [],
   "source": [
    "#Number of bins to sum spikes over\n",
    "N=bins_before+bins_current+bins_after "
   ]
  },
  {
   "cell_type": "markdown",
   "metadata": {},
   "source": [
    "#### Format Output Covariates"
   ]
  },
  {
   "cell_type": "code",
   "execution_count": 11,
   "metadata": {
    "collapsed": false
   },
   "outputs": [],
   "source": [
    "#Set decoding output\n",
    "if dataset=='s1' or dataset=='m1':\n",
    "    y=vels_binned\n",
    "if dataset=='hc':\n",
    "    y=pos_binned"
   ]
  },
  {
   "cell_type": "markdown",
   "metadata": {},
   "source": [
    "#### In HC dataset, remove time bins with no output (y value)"
   ]
  },
  {
   "cell_type": "code",
   "execution_count": 12,
   "metadata": {
    "collapsed": false
   },
   "outputs": [],
   "source": [
    "if dataset=='hc':\n",
    "    #Remove time bins with no output (y value)\n",
    "    rmv_time=np.where(np.isnan(y[:,0]) | np.isnan(y[:,1]))\n",
    "    X=np.delete(X,rmv_time,0)\n",
    "    y=np.delete(y,rmv_time,0)"
   ]
  },
  {
   "cell_type": "markdown",
   "metadata": {},
   "source": [
    "** In HC dataset, there is a long period without movement starting at ~80%, so we only use the first 80% of the data**"
   ]
  },
  {
   "cell_type": "code",
   "execution_count": 13,
   "metadata": {
    "collapsed": false
   },
   "outputs": [],
   "source": [
    "if dataset=='hc':\n",
    "    X=X[:int(.8*X.shape[0]),:]\n",
    "    y=y[:int(.8*y.shape[0]),:]"
   ]
  },
  {
   "cell_type": "markdown",
   "metadata": {},
   "source": [
    "### 3C. Define training/testing/validation sets\n",
    "We have 10 cross-validation folds. In each fold, 10% of the data is a test set, 10% is a validation set, and 80% is the training set. So in the first fold, for example, 0-10% is validation, 10-20% is testing, and 20-100% is training."
   ]
  },
  {
   "cell_type": "code",
   "execution_count": 14,
   "metadata": {
    "collapsed": false
   },
   "outputs": [],
   "source": [
    "valid_range_all=[[0,.1],[.1,.2],[.2,.3],[.3,.4],[.4,.5],\n",
    "                 [.5,.6],[.6,.7],[.7,.8],[.8,.9],[.9,1]]\n",
    "testing_range_all=[[.1,.2],[.2,.3],[.3,.4],[.4,.5],[.5,.6],\n",
    "                 [.6,.7],[.7,.8],[.8,.9],[.9,1],[0,.1]]\n",
    "#Note that the training set is not aways contiguous. For example, in the second fold, the training set has 0-10% and 30-100%.\n",
    "#In that example, we enter of list of lists: [[0,.1],[.3,1]]\n",
    "training_range_all=[[[.2,1]],[[0,.1],[.3,1]],[[0,.2],[.4,1]],[[0,.3],[.5,1]],[[0,.4],[.6,1]],\n",
    "                   [[0,.5],[.7,1]],[[0,.6],[.8,1]],[[0,.7],[.9,1]],[[0,.8]],[[.1,.9]]]\n",
    "\n",
    "num_folds=len(valid_range_all) #Number of cross validation folds"
   ]
  },
  {
   "cell_type": "markdown",
   "metadata": {},
   "source": [
    "## 4. Run CV"
   ]
  },
  {
   "cell_type": "markdown",
   "metadata": {},
   "source": [
    "**Initialize lists of results**"
   ]
  },
  {
   "cell_type": "code",
   "execution_count": 15,
   "metadata": {
    "collapsed": false
   },
   "outputs": [],
   "source": [
    "#R2 values\n",
    "mean_r2_nb=np.empty(num_folds)\n",
    "\n",
    "#Actual data\n",
    "y_test_all=[]\n",
    "y_train_all=[]\n",
    "y_valid_all=[]\n",
    "\n",
    "#Test predictions\n",
    "y_pred_nb_all=[]\n",
    "\n",
    "#Training predictions\n",
    "y_train_pred_nb_all=[]\n",
    "\n",
    "#Validation predictions\n",
    "y_valid_pred_nb_all=[]"
   ]
  },
  {
   "cell_type": "markdown",
   "metadata": {},
   "source": [
    "**In the following section, we**\n",
    "1. Loop across folds\n",
    "2. Extract the training/validation/testing data\n",
    "3. Preprocess the data\n",
    "4. Run the individual decoders (whichever have been specified in user options). This includes the hyperparameter optimization\n",
    "5. Save the results\n",
    "\n",
    "Note that the Wiener Filter, Wiener Cascade, and XGBoost decoders are commented most fully. So look at those for the best understanding."
   ]
  },
  {
   "cell_type": "code",
   "execution_count": 17,
   "metadata": {
    "collapsed": false,
    "scrolled": true
   },
   "outputs": [
    {
     "name": "stdout",
     "output_type": "stream",
     "text": [
      "('R2s:', array([0.53720645, 0.79702178]))\n",
      "('time_elapsed:', 52.453953981399536)\n",
      "('time_elapsed:', 52.453953981399536)\n"
     ]
    }
   ],
   "source": [
    "t1=time.time() #If I want to keep track of how much time has elapsed\n",
    "\n",
    "num_examples=X.shape[0] #number of examples (rows in the X matrix)\n",
    "\n",
    "\n",
    "for i in range(num_folds): #Loop through the folds\n",
    "\n",
    "    ######### SPLIT DATA INTO TRAINING/TESTING/VALIDATION #########\n",
    "    \n",
    "    #Note that all sets have a buffer of\"bins_before\" bins at the beginning, and \"bins_after\" bins at the end\n",
    "    #This makes it so that the different sets don't include overlapping neural data\n",
    "    \n",
    "    #Get testing set for this fold\n",
    "    testing_range=testing_range_all[i]\n",
    "    testing_set=np.arange(np.int(np.round(testing_range[0]*num_examples))+bins_before,np.int(np.round(testing_range[1]*num_examples))-bins_after)\n",
    "\n",
    "    #Get validation set for this fold\n",
    "    valid_range=valid_range_all[i]\n",
    "    valid_set=np.arange(np.int(np.round(valid_range[0]*num_examples))+bins_before,np.int(np.round(valid_range[1]*num_examples))-bins_after)\n",
    "\n",
    "    #Get training set for this fold. \n",
    "    #Note this needs to take into account a non-contiguous training set (see section 3C)\n",
    "    training_ranges=training_range_all[i]\n",
    "    for j in range(len(training_ranges)): #Go through different separated portions of the training set\n",
    "        training_range=training_ranges[j]\n",
    "        if j==0: #If it's the first portion of the training set, make it the training set\n",
    "            training_set=np.arange(np.int(np.round(training_range[0]*num_examples))+bins_before,np.int(np.round(training_range[1]*num_examples))-bins_after)\n",
    "        if j==1: #If it's the second portion of the training set, concatentate it to the first\n",
    "            training_set_temp=np.arange(np.int(np.round(training_range[0]*num_examples))+bins_before,np.int(np.round(training_range[1]*num_examples))-bins_after)\n",
    "            training_set=np.concatenate((training_set,training_set_temp),axis=0)\n",
    "                \n",
    "    #Get training data\n",
    "    X_train=X[training_set,:]\n",
    "    y_train=y[training_set,:]\n",
    "    \n",
    "    #Get testing data\n",
    "    X_test=X[testing_set,:]\n",
    "    y_test=y[testing_set,:]\n",
    "\n",
    "    #Get validation data\n",
    "    X_valid=X[valid_set,:]\n",
    "    y_valid=y[valid_set,:]\n",
    "\n",
    "    \n",
    "    \n",
    "    ##### PREPROCESS DATA #####\n",
    "    #Combine data across specified bins\n",
    "    #Get total number of spikes across \"bins_before\",\"bins_current\",and \"bins_after\"\n",
    "\n",
    "    #Initialize matrices for neural data in Naive bayes format\n",
    "    num_nrns=X_train.shape[1]\n",
    "    X_b_train=np.empty([X_train.shape[0]-N+1,num_nrns])\n",
    "    X_b_valid=np.empty([X_valid.shape[0]-N+1,num_nrns])\n",
    "    X_b_test=np.empty([X_test.shape[0]-N+1,num_nrns])\n",
    "\n",
    "    #Below assumes that bins_current=1 (otherwise alignment will be off by 1 between the spikes and outputs)\n",
    "    \n",
    "    #For all neurons, within all the bins being used, get the total number of spikes (sum across all those bins)\n",
    "    #Do this for the training/validation/testing sets\n",
    "    for k in range(num_nrns):\n",
    "        X_b_train[:,k]=N*np.convolve(X_train[:,k], np.ones((N,))/N, mode='valid') #Convolving w/ ones is a sum across those N bins\n",
    "        X_b_valid[:,k]=N*np.convolve(X_valid[:,k], np.ones((N,))/N, mode='valid')\n",
    "        X_b_test[:,k]=N*np.convolve(X_test[:,k], np.ones((N,))/N, mode='valid')\n",
    "\n",
    "    #Make integer format\n",
    "    X_b_train=X_b_train.astype(int)\n",
    "    X_b_valid=X_b_valid.astype(int)\n",
    "    X_b_test=X_b_test.astype(int)\n",
    "\n",
    "    #Make y's aligned w/ X's\n",
    "    #e.g. we have to remove the first y if we are using 1 bin before, and have to remove the last y if we are using 1 bin after\n",
    "\n",
    "    if bins_before>0 and bins_after>0:\n",
    "        y_train=y_train[bins_before:-bins_after,:]\n",
    "        y_valid=y_valid[bins_before:-bins_after,:]\n",
    "        y_test=y_test[bins_before:-bins_after,:]\n",
    "\n",
    "    if bins_before>0 and bins_after==0:\n",
    "        y_train=y_train[bins_before:,:]\n",
    "        y_valid=y_valid[bins_before:,:]\n",
    "        y_test=y_test[bins_before:,:]\n",
    "    \n",
    "    \n",
    "    \n",
    "    ################# DECODING #################\n",
    "    \n",
    "    #Add actual train/valid/test data to lists (for saving)\n",
    "    y_test_all.append(y_test)\n",
    "    y_train_all.append(y_train)\n",
    "    y_valid_all.append(y_valid)\n",
    "\n",
    "    \n",
    "\n",
    "    #Set \"res\", the number of bins used (resolution) for decoding predictions\n",
    "    #So if res=100, we create a 100 x 100 grid going from the minimum to maximum of the output variables\n",
    "    #The prediction the decoder makes will be a value on that grid \n",
    "    if dataset=='hc':\n",
    "        res=100\n",
    "    if dataset=='m1' or dataset=='s1':\n",
    "        res=50    \n",
    "    \n",
    "\n",
    "    #Declare model\n",
    "    model_nb=NaiveBayesDecoder(encoding_model='quadratic',res=res) #Use quadratic encoding model and resolution set above\n",
    "\n",
    "    #Fit model\n",
    "    model_nb.fit(X_b_train,y_train)\n",
    "\n",
    "    #Get predictions\n",
    "    y_test_predicted_nb=model_nb.predict(X_b_test,y_test)   \n",
    "    mean_r2_nb[i]=np.mean(get_R2(y_test,y_test_predicted_nb))    \n",
    "    #Print R2 values on test set\n",
    "    R2s_nb=get_R2(y_test,y_test_predicted_nb)\n",
    "    print('R2s:', R2s_nb)\n",
    "    \n",
    "    #Add predictions of test set to lists (for saving)\n",
    "    #We're saving predictions on the training/validation sets since we're not including this decoder in our ensemble method\n",
    "    y_pred_nb_all.append(y_test_predicted_nb)\n",
    "#     y_train_pred_nb_all.append(model_nb.predict(X_b_train,y_train))\n",
    "#     y_valid_pred_nb_all.append(model_nb.predict(X_b_valid,y_valid))  \n",
    "    \n",
    "        \n",
    "    \n",
    "    time_elapsed=time.time()-t1 #How much time has passed\n",
    "    print(\"time_elapsed:\",time_elapsed)\n",
    "    \n",
    "    \n",
    "    ###### SAVE RESULTS #####\n",
    "    #Note that I save them after every cross-validation fold rather than at the end in case the code/computer crashes for some reason while running\n",
    "    \n",
    "    with open(save_folder+dataset+'_results_nb3.pickle','wb') as f:\n",
    "        pickle.dump([mean_r2_nb,y_pred_nb_all],f)\n",
    "\n",
    "                        \n",
    "#Save ground truth results\n",
    "with open(save_folder+dataset+'_ground_truth_nb.pickle','wb') as f:\n",
    "    pickle.dump([y_test_all,y_train_all,y_valid_all],f)"
   ]
  },
  {
   "cell_type": "markdown",
   "metadata": {},
   "source": [
    "### Quick check of results"
   ]
  },
  {
   "cell_type": "code",
   "execution_count": null,
   "metadata": {
    "collapsed": true
   },
   "outputs": [],
   "source": [
    "mean_r2_nb"
   ]
  },
  {
   "cell_type": "code",
   "execution_count": null,
   "metadata": {
    "collapsed": true
   },
   "outputs": [],
   "source": [
    "plt.plot(y_test_all[1][0:1000,0])\n",
    "plt.plot(y_pred_nb_all[1][0:1000,0])"
   ]
  }
 ],
 "metadata": {
  "anaconda-cloud": {},
  "kernelspec": {
   "display_name": "Python 2",
   "language": "python",
   "name": "python2"
  },
  "language_info": {
   "codemirror_mode": {
    "name": "ipython",
    "version": 2
   },
   "file_extension": ".py",
   "mimetype": "text/x-python",
   "name": "python",
   "nbconvert_exporter": "python",
   "pygments_lexer": "ipython2",
   "version": "2.7.14"
  }
 },
 "nbformat": 4,
 "nbformat_minor": 0
}
