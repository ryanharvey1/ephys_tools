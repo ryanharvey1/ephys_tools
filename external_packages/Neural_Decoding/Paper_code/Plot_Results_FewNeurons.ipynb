{
 "cells": [
  {
   "cell_type": "markdown",
   "metadata": {},
   "source": [
    "### Import Packages"
   ]
  },
  {
   "cell_type": "code",
   "execution_count": 1,
   "metadata": {
    "collapsed": true
   },
   "outputs": [],
   "source": [
    "import numpy as np\n",
    "import matplotlib.pyplot as plt\n",
    "%matplotlib inline\n",
    "from scipy import io\n",
    "from scipy import stats\n",
    "import pickle"
   ]
  },
  {
   "cell_type": "markdown",
   "metadata": {},
   "source": [
    "### User Options"
   ]
  },
  {
   "cell_type": "code",
   "execution_count": 2,
   "metadata": {
    "collapsed": true
   },
   "outputs": [],
   "source": [
    "# load_folder='' #Folder where results are (for loading them)\n",
    "load_folder='/home/jglaser/Files/Neural_Decoding/Results/'\n",
    "# fig_folder='' #Folder to save the figures to\n",
    "fig_folder='/home/jglaser/Figs/Decoding/' \n",
    "datasets=['m1','s1','hc'] #Names of the datasets\n",
    "num_nrns_used=10 #Number of neurons used for decoding\n",
    "ill=1 #Whether I am making these plots for exporting to adobe illustrator (in which case I remove the text)\n",
    "colors=['purple','cyan','gold', 'red'] #Colors to plot each method"
   ]
  },
  {
   "cell_type": "markdown",
   "metadata": {},
   "source": [
    "### Plot Summary (Fig. 7)"
   ]
  },
  {
   "cell_type": "code",
   "execution_count": 3,
   "metadata": {
    "collapsed": false
   },
   "outputs": [
    {
     "data": {
      "image/png": "[encoded data removed]",
      "text/plain": [
       "<matplotlib.figure.Figure at 0x7fa8d1107a90>"
      ]
     },
     "metadata": {},
     "output_type": "display_data"
    }
   ],
   "source": [
    "d=0 #Initialize index of the dataset I'm looking at (this will be the row I plot in the figure)\n",
    "fig, ax = plt.subplots(3,1,figsize=(3,12)) #Create figure (3 rows by 1 column)\n",
    "\n",
    "for dataset in datasets: #Loop through datasets\n",
    "    \n",
    "    ####LOAD RESULTS FOR ALL METHODS####\n",
    "\n",
    "    with open(load_folder+dataset+'_results_nrn'+str(num_nrns_used)+'_wf.pickle','rb') as f:\n",
    "            [mean_r2_wf,y_pred_wf_all,y_train_pred_wf_all,y_valid_pred_wf_all]=pickle.load(f)\n",
    "        \n",
    "    with open(load_folder+dataset+'_results_nrn'+str(num_nrns_used)+'_dnn.pickle','rb') as f:\n",
    "        [mean_r2_dnn,y_pred_dnn_all,y_train_pred_dnn_all,y_valid_pred_dnn_all,time_elapsed]=pickle.load(f)    \n",
    "\n",
    "    with open(load_folder+dataset+'_results_nrn'+str(num_nrns_used)+'_lstm.pickle','rb') as f:\n",
    "        [mean_r2_lstm,y_pred_lstm_all,y_train_pred_lstm_all,y_valid_pred_lstm_all,time_elapsed]=pickle.load(f)\n",
    "\n",
    "    with open(load_folder+dataset+'_results_nrn'+str(num_nrns_used)+'_kf.pickle','rb') as f:\n",
    "        [mean_r2_kf,y_pred_kf_all,y_valid_pred_kf_all,y_train_pred_kf_all,y_kf_test_all,y_kf_valid_all,y_kf_train_all]=pickle.load(f)            \n",
    "            \n",
    "    #### Calculate the mean and standard error across cross-validation folds ####\n",
    "    \n",
    "    n=mean_r2_wf.shape[0] #Number of folds\n",
    "    means=([np.mean(mean_r2_wf), np.mean(mean_r2_kf),np.mean(mean_r2_dnn),np.mean(mean_r2_lstm)])\n",
    "    err=([np.std(mean_r2_wf)/np.sqrt(n),np.std(mean_r2_kf)/np.sqrt(n),np.std(mean_r2_dnn)/np.sqrt(n),np.std(mean_r2_lstm)/np.sqrt(n)])\n",
    "   \n",
    "    #####PLOT RESULTS######\n",
    "\n",
    "    #Plot bars\n",
    "    ind = np.arange(len(err)) #X values for plotting\n",
    "    for pos, y, yerr, color in zip(ind, means, err, colors): #Loop through methods and plot error bars\n",
    "        ax[d].errorbar(pos, y, yerr, lw=2, capsize=5, capthick=2, color=color)\n",
    "    #Remove x tick labels\n",
    "    labels = [item.get_text() for item in ax[d].get_xticklabels()]\n",
    "    empty_string_labels = ['']*len(labels)\n",
    "    ax[d].set_xticklabels(empty_string_labels)\n",
    "\n",
    "    #Remove right and top boundaries, and make ticks inward\n",
    "    ax[d].tick_params(direction='in',bottom=0)\n",
    "    ax[d].spines['right'].set_color('none')\n",
    "    ax[d].spines['top'].set_color('none')\n",
    "\n",
    "    #Plot individual R2 values for each fold as an 'x'\n",
    "    scatter_x=np.reshape(np.transpose(np.ones((10,1))*range(4)),(40,1)) #Get x values for plotting (first 10 will have an x value of 0, second 10 will have an x value of 1, etc)\n",
    "    scatter_y=np.concatenate((mean_r2_wf,mean_r2_kf,mean_r2_dnn,mean_r2_lstm),axis=0) #Y values for plotting\n",
    "    colors_list=[] #Create a list of the colors that should be used when plotting each 'x'\n",
    "    for i in scatter_x.astype(np.int).reshape((1,-1))[0]:\n",
    "        colors_list.append(colors[i])\n",
    "    ax[d].scatter(scatter_x,scatter_y,c=colors_list,marker='x',alpha=0.3)\n",
    "\n",
    "    #Set y axis limits and ticks\n",
    "    if dataset=='hc':\n",
    "        ax[d].set_ylim([-0.1, .5])\n",
    "    else:\n",
    "        ax[d].set_ylim([0, .65])\n",
    "    ax[d].set_xlim([-0.5, 3.5])\n",
    "    if ill:\n",
    "        ax[d].set_yticklabels('')\n",
    "    \n",
    "    d=d+1 #Increase dataset index (so the next dataset gets plot on the next row)\n",
    "    \n",
    "plt.show()\n",
    "\n",
    "fig.savefig(fig_folder+'few_neurons_summary_v3.eps') #Save figure"
   ]
  },
  {
   "cell_type": "code",
   "execution_count": null,
   "metadata": {
    "collapsed": true
   },
   "outputs": [],
   "source": []
  }
 ],
 "metadata": {
  "kernelspec": {
   "display_name": "Python [Root]",
   "language": "python",
   "name": "Python [Root]"
  },
  "language_info": {
   "codemirror_mode": {
    "name": "ipython",
    "version": 2
   },
   "file_extension": ".py",
   "mimetype": "text/x-python",
   "name": "python",
   "nbconvert_exporter": "python",
   "pygments_lexer": "ipython2",
   "version": "2.7.14"
  }
 },
 "nbformat": 4,
 "nbformat_minor": 0
}
