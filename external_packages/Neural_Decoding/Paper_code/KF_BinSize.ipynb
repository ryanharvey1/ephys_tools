{
 "cells": [
  {
   "cell_type": "markdown",
   "metadata": {},
   "source": [
    "# Kalman Filter with changing bin sizes"
   ]
  },
  {
   "cell_type": "markdown",
   "metadata": {},
   "source": [
    "## User Options"
   ]
  },
  {
   "cell_type": "markdown",
   "metadata": {},
   "source": [
    "Folder you're saving to"
   ]
  },
  {
   "cell_type": "code",
   "execution_count": 1,
   "metadata": {
    "collapsed": true
   },
   "outputs": [],
   "source": [
    "# save_folder=''\n",
    "save_folder='/home/jglaser/Files/Neural_Decoding/Results/'"
   ]
  },
  {
   "cell_type": "markdown",
   "metadata": {},
   "source": [
    "Folder you're loading from"
   ]
  },
  {
   "cell_type": "code",
   "execution_count": 2,
   "metadata": {
    "collapsed": true
   },
   "outputs": [],
   "source": [
    "# load_folder=''\n",
    "load_folder='/home/jglaser/Data/DecData/'"
   ]
  },
  {
   "cell_type": "markdown",
   "metadata": {},
   "source": [
    "Dataset you're using"
   ]
  },
  {
   "cell_type": "code",
   "execution_count": 3,
   "metadata": {
    "collapsed": true
   },
   "outputs": [],
   "source": [
    "# dataset='s1'\n",
    "# dataset='m1'\n",
    "dataset='hc'"
   ]
  },
  {
   "cell_type": "markdown",
   "metadata": {},
   "source": [
    "## 1. Import Packages\n",
    "\n",
    "We import both standard packages, and functions from the accompanying .py files"
   ]
  },
  {
   "cell_type": "code",
   "execution_count": 4,
   "metadata": {
    "collapsed": false
   },
   "outputs": [
    {
     "name": "stderr",
     "output_type": "stream",
     "text": [
      "/opt/anaconda/anaconda2/lib/python2.7/site-packages/statsmodels/compat/pandas.py:56: FutureWarning: The pandas.core.datetools module is deprecated and will be removed in a future version. Please use the pandas.tseries module instead.\n",
      "  from pandas.core import datetools\n",
      "Using Theano backend.\n",
      "WARNING (theano.sandbox.cuda): The cuda backend is deprecated and will be removed in the next release (v0.10).  Please switch to the gpuarray backend. You can get more information about how to switch at this URL:\n",
      " https://github.com/Theano/Theano/wiki/Converting-to-the-new-gpu-back-end%28gpuarray%29\n",
      "\n",
      "Using gpu device 0: GeForce GTX TITAN X (CNMeM is enabled with initial size: 45.0% of memory, cuDNN Mixed dnn version. The header is from one version, but we link with a different version (5103, 5110))\n",
      "/opt/anaconda/anaconda2/lib/python2.7/site-packages/h5py/__init__.py:36: FutureWarning: Conversion of the second argument of issubdtype from `float` to `np.floating` is deprecated. In future, it will be treated as `np.float64 == np.dtype(float).type`.\n",
      "  from ._conv import register_converters as _register_converters\n"
     ]
    }
   ],
   "source": [
    "#Import standard packages\n",
    "import numpy as np\n",
    "import matplotlib.pyplot as plt\n",
    "%matplotlib inline\n",
    "from scipy import io\n",
    "from scipy import stats\n",
    "import pickle\n",
    "import sys\n",
    "import time\n",
    "\n",
    "#Add the main folder to the path, so we have access to the files there.\n",
    "#Note that if your working directory is not the Paper_code folder, you may need to manually specify the path to the main folder. For example: sys.path.append('/home/jglaser/GitProj/Neural_Decoding')\n",
    "sys.path.append('..') \n",
    "\n",
    "#Import function to get the covariate matrix that includes spike history from previous bins\n",
    "from preprocessing_funcs import get_spikes_with_history\n",
    "\n",
    "###Import functions for binning data for preprocessing###\n",
    "from preprocessing_funcs import bin_spikes\n",
    "from preprocessing_funcs import bin_output\n",
    "\n",
    "#Import metrics\n",
    "from metrics import get_R2\n",
    "from metrics import get_rho\n",
    "\n",
    "#Import decoder functions\n",
    "from decoders import KalmanFilterDecoder\n",
    "\n",
    "from bayes_opt import BayesianOptimization"
   ]
  },
  {
   "cell_type": "code",
   "execution_count": 5,
   "metadata": {
    "collapsed": true
   },
   "outputs": [],
   "source": [
    "#Turn off deprecation warnings\n",
    "\n",
    "import warnings\n",
    "warnings.filterwarnings(\"ignore\", category=DeprecationWarning) "
   ]
  },
  {
   "cell_type": "markdown",
   "metadata": {},
   "source": [
    "## 2. Load Data\n",
    "\n",
    "Here, we load data in the more raw format, since the preprocessing depends on the bin size (which we will vary later on)"
   ]
  },
  {
   "cell_type": "code",
   "execution_count": 6,
   "metadata": {
    "collapsed": false
   },
   "outputs": [],
   "source": [
    "if dataset=='s1':    \n",
    "    data=io.loadmat(load_folder+'s1_data_raw.mat')    \n",
    "    spike_times=data['spike_times'] #Load spike times of all neurons\n",
    "    vels=data['vels'] #Load x and y velocities\n",
    "    vel_times=data['vel_times'] #Load times at which velocities were recorded\n",
    "\n",
    "if dataset=='m1':    \n",
    "    data=io.loadmat(load_folder+'m1_data_raw.mat')    \n",
    "    spike_times=data['spike_times'] #Load spike times of all neurons\n",
    "    vels=data['vels'] #Load x and y velocities\n",
    "    vel_times=data['vel_times'] #Load times at which velocities were recorded    \n",
    "    \n",
    "if dataset=='hc':\n",
    "    data=io.loadmat(load_folder+'hc_data_raw.mat')\n",
    "    spike_times=data['spike_times'] #Load spike times of all neurons\n",
    "    pos=data['pos'] #Load x and y positions\n",
    "    pos_times=data['pos_times'][0] #Load times at which positions were recorded      \n"
   ]
  },
  {
   "cell_type": "markdown",
   "metadata": {},
   "source": [
    "## 3. Preprocess Data"
   ]
  },
  {
   "cell_type": "markdown",
   "metadata": {},
   "source": [
    "Options for extracting the data (these are copied from the preprocessing file)"
   ]
  },
  {
   "cell_type": "code",
   "execution_count": 7,
   "metadata": {
    "collapsed": false
   },
   "outputs": [],
   "source": [
    "## USER OPTIONS\n",
    "if dataset=='s1' or dataset=='m1':\n",
    "    t_start=vel_times[0] #Time to start extracting data - here the first time velocity was recorded\n",
    "    t_end=vel_times[-1] #Time to finish extracting data - here the last time velocity was recorded\n",
    "    \n",
    "if dataset=='hc':    \n",
    "    t_start=pos_times[0] #Time to start extracting data - here the first time position was recorded\n",
    "    t_end=5608\n",
    "    \n",
    "downsample_factor=1 #Downsampling of output (to make binning go faster). 1 means no downsampling.\n",
    "\n",
    "\n",
    "#When loading the Matlab cell \"spike_times\", Python puts it in a format with an extra unnecessary dimension\n",
    "#First, we will put spike_times in a cleaner format: an array of arrays\n",
    "spike_times=np.squeeze(spike_times)\n",
    "for i in range(spike_times.shape[0]):\n",
    "    spike_times[i]=np.squeeze(spike_times[i])"
   ]
  },
  {
   "cell_type": "markdown",
   "metadata": {
    "collapsed": true
   },
   "source": [
    "Set the bin sizes we will test"
   ]
  },
  {
   "cell_type": "code",
   "execution_count": 8,
   "metadata": {
    "collapsed": true
   },
   "outputs": [],
   "source": [
    "if dataset=='s1' or dataset=='m1':\n",
    "    dts=[.01,.02,.03,.04,.05,.1] #Size of time bins (in seconds)\n",
    "\n",
    "if dataset=='hc':\n",
    "    dts=[.03,.05,.1,.2,.4] #Size of time bins (in seconds)\n",
    "\n",
    "num_folds=len(dts) #Number of loops we'll do (I'm just calling it \"folds\" so I can keep old code that used CV folds)"
   ]
  },
  {
   "cell_type": "markdown",
   "metadata": {},
   "source": [
    "Initializations of lists/vectors"
   ]
  },
  {
   "cell_type": "code",
   "execution_count": 9,
   "metadata": {
    "collapsed": false
   },
   "outputs": [],
   "source": [
    "mean_r2_kf=np.empty(num_folds)\n",
    "\n",
    "y_kf_test_all=[]\n",
    "y_kf_train_all=[]\n",
    "y_kf_valid_all=[]\n",
    "\n",
    "y_pred_kf_all=[] #Test predictions\n",
    "y_train_pred_kf_all=[]\n",
    "y_valid_pred_kf_all=[]"
   ]
  },
  {
   "cell_type": "markdown",
   "metadata": {},
   "source": [
    "## Loop over bin sizes and do everything!"
   ]
  },
  {
   "cell_type": "code",
   "execution_count": 10,
   "metadata": {
    "collapsed": false
   },
   "outputs": [
    {
     "name": "stdout",
     "output_type": "stream",
     "text": [
      "0.43472132320544116\n"
     ]
    }
   ],
   "source": [
    "for i in range(num_folds): #Loop over bin sizes\n",
    "    dt=dts[i] #Get the bin size for the current loop\n",
    "    \n",
    "    \n",
    "    #### FORMAT OUTPUT ####\n",
    "    \n",
    "    #Bin output (velocity) data using \"bin_output\" function\n",
    "    if dataset=='s1' or dataset=='m1':\n",
    "        vels_binned=bin_output(vels,vel_times,dt,t_start,t_end,downsample_factor)\n",
    "    if dataset=='hc':\n",
    "        pos_binned=bin_output(pos,pos_times,dt,t_start,t_end,downsample_factor)\n",
    "    \n",
    "    #For the Kalman filter, we use the position, velocity, and acceleration as outputs\n",
    "    #Ultimately, we are only concerned with the goodness of fit of velocity (s1 or m1) or position (hc)\n",
    "    #But using them all as covariates helps performance\n",
    "\n",
    "    if dataset=='s1' or dataset=='m1':\n",
    "\n",
    "        #We will now determine position\n",
    "        pos_binned=np.zeros(vels_binned.shape) #Initialize \n",
    "        pos_binned[0,:]=0 #Assume starting position is at [0,0]\n",
    "        #Loop through time bins and determine positions based on the velocities\n",
    "        for k in range(pos_binned.shape[0]-1): \n",
    "            pos_binned[k+1,0]=pos_binned[k,0]+vels_binned[k,0]*dt\n",
    "            pos_binned[k+1,1]=pos_binned[k,1]+vels_binned[k,1]*dt\n",
    "\n",
    "        #We will now determine acceleration    \n",
    "        temp=np.diff(vels_binned,axis=0) #The acceleration is the difference in velocities across time bins \n",
    "        acc_binned=np.concatenate((temp,temp[-1:,:]),axis=0) #Assume acceleration at last time point is same as 2nd to last\n",
    "\n",
    "        #The final output covariates include position, velocity, and acceleration\n",
    "        y_kf=np.concatenate((pos_binned,vels_binned,acc_binned),axis=1)\n",
    "\n",
    "\n",
    "    if dataset=='hc':\n",
    "\n",
    "        temp=np.diff(pos_binned,axis=0) #Velocity is the difference in positions across time bins\n",
    "        vels_binned=np.concatenate((temp,temp[-1:,:]),axis=0) #Assume velocity at last time point is same as 2nd to last\n",
    "\n",
    "        temp2=np.diff(vels_binned,axis=0) #The acceleration is the difference in velocities across time bins \n",
    "        acc_binned=np.concatenate((temp2,temp2[-1:,:]),axis=0) #Assume acceleration at last time point is same as 2nd to last\n",
    "\n",
    "        #The final output covariates include position, velocity, and acceleration\n",
    "        y_kf=np.concatenate((pos_binned,vels_binned,acc_binned),axis=1)  \n",
    "\n",
    "    \n",
    "    #### FORMAT INPUT ####\n",
    "    \n",
    "    #Bin neural data using \"bin_spikes\" function\n",
    "    neural_data=bin_spikes(spike_times,dt,t_start,t_end)\n",
    "    \n",
    "    #Remove neurons with too few spikes in HC dataset\n",
    "    if dataset=='hc':\n",
    "        nd_sum=np.nansum(neural_data,axis=0)\n",
    "        rmv_nrn=np.where(nd_sum<100)\n",
    "        neural_data=np.delete(neural_data,rmv_nrn,1)\n",
    "    \n",
    "                \n",
    "    #The covariate is simply the matrix of firing rates for all neurons over time\n",
    "    X_kf=neural_data\n",
    "    \n",
    "       \n",
    "    # In HC dataset, remove time bins with no output (y value)\n",
    "    if dataset=='hc':\n",
    "        #Remove time bins with no output (y value)\n",
    "        rmv_time=np.where(np.isnan(y_kf[:,0]) | np.isnan(y_kf[:,1]))\n",
    "        X_kf=np.delete(X_kf,rmv_time,0)\n",
    "        y_kf=np.delete(y_kf,rmv_time,0)\n",
    "        \n",
    "        \n",
    "        \n",
    "    #### Define training/testing/validation sets ######\n",
    "        \n",
    "    if dataset=='hc':\n",
    "\n",
    "        test_size=int(450/dt) #7.5 min\n",
    "        end_idx=np.int(X_kf.shape[0]*.8)\n",
    "        tr_end_idx=end_idx-2*test_size\n",
    "        train_size=int(2250/dt)\n",
    "\n",
    "#         testing_range=[end_idx-2*test_size,end_idx-test_size]\n",
    "#         valid_range=[end_idx-test_size,end_idx]\n",
    "\n",
    "        valid_range=[end_idx-2*test_size,end_idx-test_size]\n",
    "        testing_range=[end_idx-test_size,end_idx]\n",
    "        training_range=[tr_end_idx-train_size,tr_end_idx]\n",
    "\n",
    "    if dataset=='s1' or dataset=='m1':\n",
    "\n",
    "        if dataset=='s1':\n",
    "            test_size=int(300/dt) #5 min\n",
    "            end_idx=np.int(X_kf.shape[0]*.9)\n",
    "            train_size=int(1200/dt) # 20 min\n",
    "        if dataset=='m1':\n",
    "            test_size=int(300/dt) #5 min\n",
    "            end_idx=np.int(X_kf.shape[0]*1)\n",
    "            train_size=int(600/dt) # 10 min\n",
    "\n",
    "        tr_end_idx=end_idx-2*test_size\n",
    "\n",
    "        valid_range=[end_idx-2*test_size,end_idx-test_size]\n",
    "        testing_range=[end_idx-test_size,end_idx]\n",
    "        training_range=[tr_end_idx-train_size,tr_end_idx]   \n",
    " \n",
    "\n",
    "    ###### RUN DECODERS #######\n",
    "    \n",
    "    t1=time.time()\n",
    "\n",
    "    num_examples=X_kf.shape[0]\n",
    "\n",
    "\n",
    "    ######### SPLIT DATA INTO TRAINING/TESTING/VALIDATION #########\n",
    "    \n",
    "\n",
    "    #Note that all sets have a buffer of 1 bins at the beginning, and 1 bins at the end\n",
    "    #This makes it so that the different sets don't include overlapping neural data\n",
    "    \n",
    "    #Testing set\n",
    "    testing_set=np.arange(testing_range[0]+1,testing_range[1]-1)\n",
    "\n",
    "\n",
    "    #Validation set\n",
    "    valid_set=np.arange(valid_range[0]+1,valid_range[1]-1)\n",
    "\n",
    "    #Training_set\n",
    "    training_set=np.arange(training_range[0]+1,training_range[1]-1)\n",
    "\n",
    "                \n",
    "    #Get training data\n",
    "    X_kf_train=X_kf[training_set,:]\n",
    "    y_kf_train=y_kf[training_set,:]\n",
    "\n",
    "    #Get validation data\n",
    "    X_kf_valid=X_kf[valid_set,:]\n",
    "    y_kf_valid=y_kf[valid_set,:]\n",
    "    \n",
    "    #Get testing data\n",
    "    X_kf_test=X_kf[testing_set,:]\n",
    "    y_kf_test=y_kf[testing_set,:]\n",
    "\n",
    "\n",
    "\n",
    "    #Preprocess data\n",
    "    #Z-score \"X_kf\" inputs. \n",
    "    X_kf_train_mean=np.nanmean(X_kf_train,axis=0)\n",
    "    X_kf_train_std=np.nanstd(X_kf_train,axis=0)\n",
    "    X_kf_train=(X_kf_train-X_kf_train_mean)/X_kf_train_std\n",
    "    X_kf_test=(X_kf_test-X_kf_train_mean)/X_kf_train_std\n",
    "    X_kf_valid=(X_kf_valid-X_kf_train_mean)/X_kf_train_std\n",
    "\n",
    "    #Zero-center outputs\n",
    "    y_kf_train_mean=np.nanmean(y_kf_train,axis=0)\n",
    "    y_kf_train=y_kf_train-y_kf_train_mean\n",
    "    y_kf_test=y_kf_test-y_kf_train_mean\n",
    "    y_kf_valid=y_kf_valid-y_kf_train_mean    \n",
    "\n",
    "        \n",
    "    \n",
    "    \n",
    "    ####### RUN KALMAN FILTER #######\n",
    "\n",
    "    #We are going to loop through different lags, and for each lag: \n",
    "        #-we will find the optimal hyperparameter C based on the validation set R2\n",
    "        #-with that hyperparameter, we will get the validation set R2 for the given lag\n",
    "    #We will determine the lag as the one that gives the best validation set R2\n",
    "    #Finally, using the lag and hyperparameters determined (based on above), we will get the test set R2\n",
    "    \n",
    "    \n",
    "    #First, we set the limits of lags that we will evaluate for each dataset\n",
    "    if dataset=='hc':\n",
    "        valid_lags=np.arange(int(-.5/dt),int(.5/dt)) #Lags to evaluate\n",
    "    if dataset=='m1':\n",
    "        valid_lags=np.arange(int(-.4/dt),1) #Lags to evaluate\n",
    "    if dataset=='s1':\n",
    "        valid_lags=np.arange(int(-.2/dt),int(.2/dt)) #Lags to evaluate\n",
    "    num_valid_lags=valid_lags.shape[0] #Number of lags we will consider\n",
    "    \n",
    "    #Initializations\n",
    "    lag_results=np.empty(num_valid_lags) #Array to store validation R2 results for each lag\n",
    "    C_results=np.empty(num_valid_lags) #Array to store the best hyperparameter for each lag\n",
    "    \n",
    "    \n",
    "    \n",
    "    \n",
    "    #### Wrapper function that returns the best validation set R2 for each lag\n",
    "    #That is, for the given lag, it will find the best hyperparameters to maximize validation set R2\n",
    "    #and the function returns that R2 value\n",
    "    def kf_evaluate_lag(lag,X_kf_train,y_kf_train,X_kf_valid,y_kf_valid):    \n",
    "            \n",
    "        #Re-align data to take lag into account\n",
    "        if lag<0:\n",
    "            y_kf_train=y_kf_train[-lag:,:]\n",
    "            X_kf_train=X_kf_train[:lag,:]\n",
    "            y_kf_valid=y_kf_valid[-lag:,:]\n",
    "            X_kf_valid=X_kf_valid[:lag,:]\n",
    "        if lag>0:\n",
    "            y_kf_train=y_kf_train[0:-lag,:]\n",
    "            X_kf_train=X_kf_train[lag:,:]\n",
    "            y_kf_valid=y_kf_valid[0:-lag,:]\n",
    "            X_kf_valid=X_kf_valid[lag:,:]\n",
    "            \n",
    "        #This is a function that evaluates the Kalman filter for the given hyperparameter C\n",
    "        #and returns the R2 value for the hyperparameter. It's used within Bayesian optimization\n",
    "        def kf_evaluate(C):\n",
    "            model_kf=KalmanFilterDecoder(C=C) #Define model\n",
    "            model_kf.fit(X_kf_train,y_kf_train) #Fit model\n",
    "            y_valid_predicted_kf=model_kf.predict(X_kf_valid,y_kf_valid) #Get validation set predictions\n",
    "            #Get validation set R2\n",
    "            if dataset=='hc':\n",
    "                return np.mean(get_R2(y_kf_valid,y_valid_predicted_kf)[0:2]) #Position is components 0 and 1\n",
    "            if dataset=='m1' or dataset=='s1':\n",
    "                return np.mean(get_R2(y_kf_valid,y_valid_predicted_kf)[2:4]) #Velocity is components 2 and 3\n",
    "        \n",
    "        #Do Bayesian optimization!\n",
    "        kfBO = BayesianOptimization(kf_evaluate, {'C': (.5, 20)}, verbose=0) #Define Bayesian optimization, and set limits of hyperparameters\n",
    "        kfBO.maximize(init_points=10, n_iter=10) #Set number of initial runs and subsequent tests, and do the optimization\n",
    "        best_params=kfBO.res['max']['max_params'] #Get the hyperparameters that give rise to the best fit\n",
    "        C=best_params['C']\n",
    "#         print(\"C=\", C)\n",
    "\n",
    "        #Get the validation set R2 using the best hyperparameters fit above:    \n",
    "        model_kf=KalmanFilterDecoder(C=C) #Define model\n",
    "        model_kf.fit(X_kf_train,y_kf_train) #Fit model\n",
    "        y_valid_predicted_kf=model_kf.predict(X_kf_valid,y_kf_valid) #Get validation set predictions\n",
    "        #Get validation set R2\n",
    "        if dataset=='hc':\n",
    "            return [np.mean(get_R2(y_kf_valid,y_valid_predicted_kf)[0:2]), C] #Position is components 0 and 1\n",
    "        if dataset=='m1' or dataset=='s1':\n",
    "            return [np.mean(get_R2(y_kf_valid,y_valid_predicted_kf)[2:4]), C] #Velocity is components 2 and 3\n",
    "   \n",
    "    \n",
    "    ### Loop through lags and get validation set R2 for each lag ####\n",
    "    \n",
    "    for j in range(num_valid_lags):    \n",
    "        valid_lag=valid_lags[j] #Set what lag you're using\n",
    "        #Run the wrapper function, and put the R2 value and corresponding C (hyperparameter) in arrays\n",
    "        [lag_results[j],C_results[j]]=kf_evaluate_lag(valid_lag,X_kf_train,y_kf_train,X_kf_valid,y_kf_valid)\n",
    "        \n",
    "       \n",
    "        \n",
    "    #### Get results on test set ####\n",
    "    \n",
    "    #Get the lag (and corresponding C value) that gave the best validation results\n",
    "    lag=valid_lags[np.argmax(lag_results)] #The lag\n",
    "#     print(\"lag=\",lag)\n",
    "    C=C_results[np.argmax(lag_results)] #The hyperparameter C    \n",
    "        \n",
    "    #Re-align data to take lag into account\n",
    "    if lag<0:\n",
    "        y_kf_train=y_kf_train[-lag:,:]\n",
    "        X_kf_train=X_kf_train[:lag,:]\n",
    "        y_kf_test=y_kf_test[-lag:,:]\n",
    "        X_kf_test=X_kf_test[:lag,:]\n",
    "        y_kf_valid=y_kf_valid[-lag:,:]\n",
    "        X_kf_valid=X_kf_valid[:lag,:]\n",
    "    if lag>0:\n",
    "        y_kf_train=y_kf_train[0:-lag,:]\n",
    "        X_kf_train=X_kf_train[lag:,:]\n",
    "        y_kf_test=y_kf_test[0:-lag,:]\n",
    "        X_kf_test=X_kf_test[lag:,:]\n",
    "        y_kf_valid=y_kf_valid[0:-lag,:]\n",
    "        X_kf_valid=X_kf_valid[lag:,:]\n",
    "    \n",
    "    #Run the Kalman filter\n",
    "    model_kf=KalmanFilterDecoder(C=C) #Define model\n",
    "    model_kf.fit(X_kf_train,y_kf_train) #Fit model\n",
    "    y_test_predicted_kf=model_kf.predict(X_kf_test,y_kf_test) #Get test set predictions\n",
    "    #Get test set R2 values and put them in arrays\n",
    "    if dataset=='hc':\n",
    "        mean_r2_kf[i]=np.mean(get_R2(y_kf_test,y_test_predicted_kf)[0:2]) #Position is components 0 and 1\n",
    "        print(np.mean(get_R2(y_kf_test,y_test_predicted_kf)[0:2]))\n",
    "    if dataset=='m1' or dataset=='s1':\n",
    "        mean_r2_kf[i]=np.mean(get_R2(y_kf_test,y_test_predicted_kf)[2:4]) #Velocity is components 2 and 3\n",
    "        print(np.mean(get_R2(y_kf_test,y_test_predicted_kf)[2:4]))    \n",
    "    \n",
    "    \n",
    "    \n",
    "    ### Add variables to list (for saving) ###\n",
    "    y_kf_test_all.append(y_kf_test)\n",
    "    y_kf_valid_all.append(y_kf_valid)    \n",
    "    y_kf_train_all.append(y_kf_train)    \n",
    "       \n",
    "    y_pred_kf_all.append(y_test_predicted_kf)\n",
    "    y_valid_pred_kf_all.append(model_kf.predict(X_kf_valid,y_kf_valid))\n",
    "    y_train_pred_kf_all.append(model_kf.predict(X_kf_train,y_kf_train))    \n",
    "\n",
    "    \n",
    "    \n",
    "    ### Save ###    \n",
    "    with open(save_folder+dataset+'_results_binsize_kf.pickle','wb') as f:\n",
    "        pickle.dump([mean_r2_kf,y_pred_kf_all,y_valid_pred_kf_all,y_train_pred_kf_all,\n",
    "                     y_kf_test_all,y_kf_valid_all,y_kf_train_all,lag],f)    \n",
    "        \n",
    "        \n",
    "# print(\"time_elapsed:\",time_elapsed)\n",
    "\n"
   ]
  },
  {
   "cell_type": "code",
   "execution_count": null,
   "metadata": {
    "collapsed": true
   },
   "outputs": [],
   "source": []
  }
 ],
 "metadata": {
  "anaconda-cloud": {},
  "kernelspec": {
   "display_name": "Python [Root]",
   "language": "python",
   "name": "Python [Root]"
  },
  "language_info": {
   "codemirror_mode": {
    "name": "ipython",
    "version": 2
   },
   "file_extension": ".py",
   "mimetype": "text/x-python",
   "name": "python",
   "nbconvert_exporter": "python",
   "pygments_lexer": "ipython2",
   "version": "2.7.14"
  }
 },
 "nbformat": 4,
 "nbformat_minor": 0
}
