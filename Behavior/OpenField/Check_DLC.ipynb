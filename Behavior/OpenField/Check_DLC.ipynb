{
  "nbformat": 4,
  "nbformat_minor": 0,
  "metadata": {
    "colab": {
      "name": "Check_DLC.ipynb",
      "provenance": []
    },
    "kernelspec": {
      "name": "python3",
      "display_name": "Python 3"
    }
  },
  "cells": [
    {
      "cell_type": "markdown",
      "metadata": {
        "id": "uhheF2WE_fXN",
        "colab_type": "text"
      },
      "source": [
        "#This notebook loads DLC coordinates (csv) and creates plots to check tracking accuracy\n",
        "\n",
        "*   Assumes four tracked body parts (head,neck,body,tail) \n",
        "*   Saves figures/percentage of coordinates above cutoff back to Google Drive\n",
        "\n",
        "by Berkowitz & Harvey July 2020\n",
        "\n"
      ]
    },
    {
      "cell_type": "markdown",
      "metadata": {
        "id": "J3YjZ4Cy_wvq",
        "colab_type": "text"
      },
      "source": [
        "##Let's mount the google drive and set path to where DLC csv files are saved. "
      ]
    },
    {
      "cell_type": "code",
      "metadata": {
        "id": "OOJBFN23_bXf",
        "colab_type": "code",
        "colab": {}
      },
      "source": [
        "from google.colab import drive\n",
        "drive.mount('/content/gdrive')\n",
        "\n",
        "data_path = '/content/gdrive/My Drive/PAE_OF/Videos/'"
      ],
      "execution_count": null,
      "outputs": []
    },
    {
      "cell_type": "markdown",
      "metadata": {
        "id": "50pQ9rkoAGCu",
        "colab_type": "text"
      },
      "source": [
        "#Alright, lets load the python packages we'll use"
      ]
    },
    {
      "cell_type": "code",
      "metadata": {
        "id": "dspffbX0AVw0",
        "colab_type": "code",
        "colab": {}
      },
      "source": [
        "import glob # for file names\n",
        "import pandas as pd # to create data frames\n",
        "from matplotlib import pyplot as plt # visualization \n"
      ],
      "execution_count": null,
      "outputs": []
    },
    {
      "cell_type": "markdown",
      "metadata": {
        "id": "PLe6ykBXArrb",
        "colab_type": "text"
      },
      "source": [
        "#Here are some functions we'll use to automate things "
      ]
    },
    {
      "cell_type": "code",
      "metadata": {
        "id": "FOzZUC_0iSn4",
        "colab_type": "code",
        "colab": {}
      },
      "source": [
        "\n",
        "# This will calculate the percent of the coordinates that are above a standard \n",
        "# cutoff (default is 95th percentile). df is created by plot_all_checks\n",
        "def percent_good(df,cutoff = 0.95):\n",
        "  lh = df['likelihood']\n",
        "  return (np.mean(lh > cutoff))\n",
        "\n",
        "# This is our plot function. Figure contains 4 x 1 subplots\n",
        "def plot_DLC(df, cutoff = .95):\n",
        "  #index out coordinates and likelihood values\n",
        "  x = df['x']\n",
        "  y = df['y']\n",
        "  lh = df['likelihood']\n",
        "\n",
        "  #create timestamps to align the coords over time\n",
        "  ts = np.linspace(0,len(x)/30,len(x))\n",
        "\n",
        "  #easy index for all 'good' coordiantes\n",
        "  x_g = x.loc[lh > cutoff]\n",
        "  y_g = y.loc[lh > cutoff]\n",
        "  ts_g = ts[lh > cutoff]\n",
        "\n",
        "  #setup our figure and subplots\n",
        "  fig, ax = plt.subplots(4,1,figsize=(15.0, 15.0))\n",
        "\n",
        "  # First plot, shows all tracked coordinates\n",
        "  ax[0].scatter(x,y, s = 0.05)\n",
        "  ax[0].set_aspect('equal','box')\n",
        "  ax[0].set_title('All Coordinates')\n",
        "\n",
        "  # Second plot, these are only coordinates that pass cutoff\n",
        "  ax[1].scatter(x_g,y_g, s = 0.05)\n",
        "  ax[1].set_aspect('equal','box')\n",
        "  ax[1].set_title('99th likelihood')\n",
        "\n",
        "  # Third plot, shows x coords over time \n",
        "  ax[2].plot(ts,x, color = 'r',label = 'bad')\n",
        "  ax[2].plot(ts_g,x_g,label = 'good')\n",
        "  ax[2].set_title('All X coords over time')\n",
        "  ax[2].legend()\n",
        "\n",
        "  # Fourth plot, shows y coords over time \n",
        "  ax[3].plot(ts,y,color = 'r',label = 'bad')\n",
        "  ax[3].plot(ts_g,y_g,label = 'good')\n",
        "  ax[3].set_title('All Y coords over time')\n",
        "  ax[3].legend()\n",
        "\n",
        "  plt.tight_layout()\n",
        "\n",
        "  return fig\n",
        "\n",
        "# This is the main function. It reads in the csv file, computes/saves the percent\n",
        "# good coords, and saves the figure back into the google drive. \n",
        "#\n",
        "# Currently, the function is configured for 4 tracked body parts (head, neck,\n",
        "# body, tail). \n",
        " \n",
        "def plot_all_checks(file_name):\n",
        "  \n",
        "  df = pd.read_csv(file_name,header = [1,2])\n",
        "\n",
        "  df_head = df['head']\n",
        "  df_neck = df['neck']\n",
        "  df_body = df['body']\n",
        "  df_tail = df['tail']\n",
        "  h = []\n",
        "\n",
        "  fig = plot_DLC(df_head)\n",
        "  h.append(percent_bad(df_head))\n",
        "  fig.savefig(file_name.replace('.csv','')+'_head_check.png')\n",
        "\n",
        "  fig = plot_DLC(df_neck)\n",
        "  h.append(percent_bad(df_neck))\n",
        "  fig.savefig(file_name.replace('.csv','')+'_neck_check.png')\n",
        "\n",
        "  fig = plot_DLC(df_body)\n",
        "  h.append(percent_bad(df_body))\n",
        "  fig.savefig(file_name.replace('.csv','')+'_body_check.png')\n",
        "\n",
        "  fig = plot_DLC(df_tail)\n",
        "  h.append(percent_bad(df_tail))\n",
        "  fig.savefig(file_name.replace('.csv','')+'_tail_check.png')\n",
        "\n",
        "  to_save = pd.DataFrame(h, index = ['head','neck','body','tail'])\n",
        "  to_save.to_csv(file_name.replace('.csv','')+'_above95th.csv')\n"
      ],
      "execution_count": null,
      "outputs": []
    },
    {
      "cell_type": "markdown",
      "metadata": {
        "id": "lcvevnhcDA_Y",
        "colab_type": "text"
      },
      "source": [
        "#All set! Time to run the above functions and look at your beautiful tracked coordiantes :)\n",
        "\n"
      ]
    },
    {
      "cell_type": "code",
      "metadata": {
        "id": "ItVckckIdxhX",
        "colab_type": "code",
        "colab": {}
      },
      "source": [
        "# Find the file paths to the coordinates\n",
        "files = glob.glob(data_path+'*.csv')\n",
        "print(files)\n",
        "\n",
        "# Loop through all csv coordiantes in the directory, calculate/save percent good\n",
        "# , and save images of the tracked body parts.\n",
        "for file in range(len(files)):\n",
        "  plot_all_checks(files[file])\n"
      ],
      "execution_count": null,
      "outputs": []
    }
  ]
}