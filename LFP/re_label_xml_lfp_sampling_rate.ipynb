{
 "cells": [
  {
   "cell_type": "markdown",
   "metadata": {},
   "source": [
    "# Re-label .xml lfp sampling rate from 1000 to 1250Hz"
   ]
  },
  {
   "cell_type": "code",
   "execution_count": 46,
   "metadata": {},
   "outputs": [],
   "source": [
    "import xml.etree.ElementTree as ET \n",
    "import glob"
   ]
  },
  {
   "cell_type": "code",
   "execution_count": 47,
   "metadata": {},
   "outputs": [],
   "source": [
    "sessions = glob.glob('F:/Projects/PAE_PlaceCell/**/*.xml',recursive=True)\n",
    "\n",
    "for file in sessions:\n",
    "    tree = ET.parse(file)\n",
    "    root = tree.getroot()\n",
    "\n",
    "    elems = root.findall('.//lfpSamplingRate')\n",
    "    for elem in elems:\n",
    "        elem.text = '1250'\n",
    "\n",
    "    elems = root.findall('.//file/samplingRate')\n",
    "    for elem in elems:\n",
    "        if elem.text == '1000':\n",
    "            elem.text = '1250'     \n",
    "\n",
    "    tree.write(file)"
   ]
  }
 ],
 "metadata": {
  "kernelspec": {
   "display_name": "Python 3",
   "language": "python",
   "name": "python3"
  },
  "language_info": {
   "codemirror_mode": {
    "name": "ipython",
    "version": 3
   },
   "file_extension": ".py",
   "mimetype": "text/x-python",
   "name": "python",
   "nbconvert_exporter": "python",
   "pygments_lexer": "ipython3",
   "version": "3.8.5"
  }
 },
 "nbformat": 4,
 "nbformat_minor": 4
}
